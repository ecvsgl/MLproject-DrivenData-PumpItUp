{
 "cells": [
  {
   "cell_type": "code",
   "execution_count": 84,
   "metadata": {},
   "outputs": [],
   "source": [
    "import numpy as np\n",
    "import pandas as pd\n",
    "import matplotlib.pyplot as plt\n",
    "%matplotlib inline\n",
    "import seaborn as sns\n",
    "\n",
    "from sklearn.metrics import classification_report\n",
    "from sklearn.metrics import accuracy_score\n",
    "from sklearn.metrics import roc_curve, auc\n",
    "\n",
    "from sklearn.model_selection import train_test_split\n",
    "import statsmodels.api as sm\n",
    "import statsmodels.formula.api as smf\n"
   ]
  },
  {
   "cell_type": "code",
   "execution_count": 85,
   "metadata": {},
   "outputs": [],
   "source": [
    " # Function to view all columns/rows to be used with head() or tail().\n",
    "\n",
    "def display_all(df):\n",
    "   with pd.option_context('display.max_rows', 1000):\n",
    "       with pd.option_context('display.max_columns', 1000):\n",
    "           display(df)"
   ]
  },
  {
   "cell_type": "code",
   "execution_count": 86,
   "metadata": {},
   "outputs": [],
   "source": [
    "df = pd.read_csv('../clean_train.csv')\n",
    "df_test = pd.read_csv('../clean_test.csv')\n",
    "\n",
    "df.columns = df.columns.str.replace(' ', '')\n",
    "df_test.columns = df_test.columns.str.replace(' ', '')\n",
    "\n",
    "df.columns = df.columns.str.replace('-', '')\n",
    "df_test.columns = df_test.columns.str.replace('-', '')\n",
    "\n",
    "df.columns = df.columns.str.replace('/', '')\n",
    "df_test.columns = df_test.columns.str.replace('/', '')\n",
    "\n",
    "df['status_group']=df['status_group'].replace(\"functional\",2)\n",
    "df['status_group']=df['status_group'].replace(\"non functional\",1)\n",
    "df['status_group']=df['status_group'].replace(\"functional needs repair\",0)"
   ]
  },
  {
   "cell_type": "code",
   "execution_count": 87,
   "metadata": {},
   "outputs": [
    {
     "data": {
      "text/plain": [
       "((59400, 65), (14850, 62))"
      ]
     },
     "execution_count": 87,
     "metadata": {},
     "output_type": "execute_result"
    }
   ],
   "source": [
    "df.shape, df_test.shape"
   ]
  },
  {
   "cell_type": "code",
   "execution_count": 88,
   "metadata": {},
   "outputs": [
    {
     "data": {
      "text/plain": [
       "Index(['extraction_type_othermkulimashinyanga', 'scheme_management_None',\n",
       "       'status_group'],\n",
       "      dtype='object')"
      ]
     },
     "execution_count": 88,
     "metadata": {},
     "output_type": "execute_result"
    }
   ],
   "source": [
    "df.columns.difference(df_test.columns)"
   ]
  },
  {
   "cell_type": "code",
   "execution_count": 89,
   "metadata": {},
   "outputs": [],
   "source": [
    "df.drop(columns = ['extraction_type_othermkulimashinyanga', 'scheme_management_None'], inplace=True)"
   ]
  },
  {
   "cell_type": "code",
   "execution_count": 90,
   "metadata": {},
   "outputs": [
    {
     "data": {
      "text/plain": [
       "((59400, 63), (14850, 62))"
      ]
     },
     "execution_count": 90,
     "metadata": {},
     "output_type": "execute_result"
    }
   ],
   "source": [
    "df.shape, df_test.shape"
   ]
  },
  {
   "attachments": {},
   "cell_type": "markdown",
   "metadata": {},
   "source": [
    "### Logistic Regression."
   ]
  },
  {
   "cell_type": "code",
   "execution_count": 91,
   "metadata": {},
   "outputs": [],
   "source": [
    "df_train, df_pretest = train_test_split(df,test_size=0.3)\n"
   ]
  },
  {
   "cell_type": "code",
   "execution_count": 92,
   "metadata": {},
   "outputs": [
    {
     "data": {
      "text/plain": [
       "((41580, 63), (17820, 63))"
      ]
     },
     "execution_count": 92,
     "metadata": {},
     "output_type": "execute_result"
    }
   ],
   "source": [
    "df_train.shape, df_pretest.shape"
   ]
  },
  {
   "cell_type": "code",
   "execution_count": 93,
   "metadata": {},
   "outputs": [
    {
     "data": {
      "text/plain": [
       "Index(['id', 'gps_height', 'longitude', 'latitude', 'region_code',\n",
       "       'district_code', 'population', 'payment', 'status_group', 'recordDay',\n",
       "       'recordMonth', 'recordYear', 'public_meeting_True',\n",
       "       'scheme_management_Company', 'scheme_management_Other',\n",
       "       'scheme_management_Parastatal', 'scheme_management_Privateoperator',\n",
       "       'scheme_management_SWC', 'scheme_management_Trust',\n",
       "       'scheme_management_VWC', 'scheme_management_WUA',\n",
       "       'scheme_management_WUG', 'scheme_management_WaterBoard',\n",
       "       'scheme_management_Waterauthority', 'permit_True',\n",
       "       'extraction_type_afridev', 'extraction_type_cemo',\n",
       "       'extraction_type_climax', 'extraction_type_gravity',\n",
       "       'extraction_type_indiamarkii', 'extraction_type_indiamarkiii',\n",
       "       'extraction_type_ksb', 'extraction_type_mono',\n",
       "       'extraction_type_niratanira', 'extraction_type_other',\n",
       "       'extraction_type_otherplaypump', 'extraction_type_otherropepump',\n",
       "       'extraction_type_otherswn81', 'extraction_type_submersible',\n",
       "       'extraction_type_swn80', 'extraction_type_walimi',\n",
       "       'extraction_type_windmill', 'quality_group_colored',\n",
       "       'quality_group_fluoride', 'quality_group_good', 'quality_group_milky',\n",
       "       'quality_group_salty', 'quality_group_unknown', 'quantity_group_dry',\n",
       "       'quantity_group_enough', 'quantity_group_insufficient',\n",
       "       'quantity_group_seasonal', 'quantity_group_unknown',\n",
       "       'source_class_groundwater', 'source_class_surface',\n",
       "       'source_class_unknown', 'waterpoint_type_cattletrough',\n",
       "       'waterpoint_type_communalstandpipe',\n",
       "       'waterpoint_type_communalstandpipemultiple', 'waterpoint_type_dam',\n",
       "       'waterpoint_type_handpump', 'waterpoint_type_improvedspring',\n",
       "       'waterpoint_type_other'],\n",
       "      dtype='object')"
      ]
     },
     "execution_count": 93,
     "metadata": {},
     "output_type": "execute_result"
    }
   ],
   "source": [
    "df_train.columns"
   ]
  },
  {
   "cell_type": "code",
   "execution_count": 94,
   "metadata": {},
   "outputs": [
    {
     "name": "stdout",
     "output_type": "stream",
     "text": [
      "Warning: Maximum number of iterations has been exceeded.\n",
      "         Current function value: 0.683106\n",
      "         Iterations: 35\n"
     ]
    },
    {
     "name": "stderr",
     "output_type": "stream",
     "text": [
      "c:\\ProgramData\\Anaconda3\\lib\\site-packages\\statsmodels\\base\\model.py:604: ConvergenceWarning: Maximum Likelihood optimization failed to converge. Check mle_retvals\n",
      "  warnings.warn(\"Maximum Likelihood optimization failed to \"\n",
      "c:\\ProgramData\\Anaconda3\\lib\\site-packages\\statsmodels\\discrete\\discrete_model.py:4247: RuntimeWarning: invalid value encountered in sqrt\n",
      "  bse = np.sqrt(np.diag(self.cov_params()))\n"
     ]
    },
    {
     "name": "stdout",
     "output_type": "stream",
     "text": [
      "                                           Results: MNLogit\n",
      "======================================================================================================\n",
      "Model:                           MNLogit                      Pseudo R-squared:             0.234     \n",
      "Dependent Variable:              status_group                 AIC:                          57043.0836\n",
      "Date:                            2023-04-03 16:53             BIC:                          58062.0578\n",
      "No. Observations:                41580                        Log-Likelihood:               -28404.   \n",
      "Df Model:                        116                          LL-Null:                      -37073.   \n",
      "Df Residuals:                    41462                        LLR p-value:                  0.0000    \n",
      "Converged:                       0.0000                       Scale:                        1.0000    \n",
      "No. Iterations:                  35.0000                                                              \n",
      "------------------------------------------------------------------------------------------------------\n",
      "             status_group = 0               Coef.    Std.Err.     t    P>|t|     [0.025       0.975]  \n",
      "------------------------------------------------------------------------------------------------------\n",
      "                                Intercept   12.3265        nan     nan    nan          nan         nan\n",
      "                               gps_height    0.0002     0.0001  3.0249 0.0025       0.0001      0.0003\n",
      "                                longitude    0.1212     0.0106 11.3958 0.0000       0.1003      0.1420\n",
      "                                 latitude    0.0318     0.0099  3.2019 0.0014       0.0123      0.0513\n",
      "                              region_code   -0.0047     0.0018 -2.6220 0.0087      -0.0083     -0.0012\n",
      "                            district_code    0.0101     0.0034  2.9869 0.0028       0.0035      0.0168\n",
      "                               population    0.0001     0.0001  1.3741 0.1694      -0.0000      0.0002\n",
      "                                  payment   -0.2817     0.0463 -6.0901 0.0000      -0.3723     -0.1910\n",
      "                                recordDay   -0.0131     0.0025 -5.1449 0.0000      -0.0180     -0.0081\n",
      "                              recordMonth    0.0696     0.0093  7.5106 0.0000       0.0514      0.0877\n",
      "                               recordYear   -0.0086     0.0312 -0.2747 0.7835      -0.0698      0.0526\n",
      "                      public_meeting_True    0.0463     0.0725  0.6396 0.5224      -0.0957      0.1884\n",
      "                scheme_management_Company    6.0172 58329.7910  0.0001 0.9999 -114318.2724 114330.3068\n",
      "                  scheme_management_Other    5.1821 58374.4253  0.0001 0.9999 -114406.5890 114416.9532\n",
      "             scheme_management_Parastatal    4.2038 58331.2620  0.0001 0.9999 -114322.9690 114331.3766\n",
      "        scheme_management_Privateoperator    5.4075 58347.0050  0.0001 0.9999 -114352.6209 114363.4358\n",
      "                    scheme_management_SWC    5.9379 58334.0180  0.0001 0.9999 -114326.6364 114338.5122\n",
      "                  scheme_management_Trust    4.8490 58337.3782  0.0001 0.9999 -114334.3112 114344.0092\n",
      "                    scheme_management_VWC    5.0467 58353.8399  0.0001 0.9999 -114366.3779 114376.4713\n",
      "                    scheme_management_WUA    4.4717 58364.5593  0.0001 0.9999 -114387.9625 114396.9059\n",
      "                    scheme_management_WUG    3.9728 58327.5277  0.0001 0.9999 -114315.8808 114323.8264\n",
      "             scheme_management_WaterBoard    5.2047 58364.7206  0.0001 0.9999 -114387.5457 114397.9551\n",
      "         scheme_management_Waterauthority    4.8061 58332.0489  0.0001 0.9999 -114323.9089 114333.5210\n",
      "                              permit_True   -0.1462     0.0496 -2.9475 0.0032      -0.2433     -0.0490\n",
      "                  extraction_type_afridev   -9.4591   325.0311 -0.0291 0.9768    -646.5083    627.5901\n",
      "                     extraction_type_cemo  -10.1114   325.0313 -0.0311 0.9752    -647.1611    626.9383\n",
      "                   extraction_type_climax   10.3710 12994.0673  0.0008 0.9994  -25457.5330  25478.2750\n",
      "                  extraction_type_gravity  -10.3799   325.0311 -0.0319 0.9745    -647.4291    626.6693\n",
      "              extraction_type_indiamarkii   -9.6712   325.0310 -0.0298 0.9763    -646.7203    627.3779\n",
      "             extraction_type_indiamarkiii   -8.5507   325.0326 -0.0263 0.9790    -645.6029    628.5016\n",
      "                      extraction_type_ksb   -7.9249   325.0312 -0.0244 0.9805    -644.9742    629.1245\n",
      "                     extraction_type_mono   -9.4654   325.0311 -0.0291 0.9768    -646.5146    627.5838\n",
      "               extraction_type_niratanira  -10.7859   325.0310 -0.0332 0.9735    -647.8349    626.2632\n",
      "                    extraction_type_other   -8.8466   325.0311 -0.0272 0.9783    -645.8958    628.2025\n",
      "            extraction_type_otherplaypump   -9.0238   325.0327 -0.0278 0.9779    -646.0761    628.0285\n",
      "            extraction_type_otherropepump   -9.8282   325.0312 -0.0302 0.9759    -646.8776    627.2212\n",
      "               extraction_type_otherswn81   -9.4769   325.0313 -0.0292 0.9767    -646.5266    627.5727\n",
      "              extraction_type_submersible   -9.5716   325.0311 -0.0294 0.9765    -646.6208    627.4777\n",
      "                    extraction_type_swn80  -10.1238   325.0310 -0.0311 0.9752    -647.1729    626.9253\n",
      "                   extraction_type_walimi  -11.2426   325.0314 -0.0346 0.9724    -648.2924    625.8072\n",
      "                 extraction_type_windmill   -9.1639   325.0317 -0.0282 0.9775    -646.2143    627.8864\n",
      "                    quality_group_colored    1.7723        nan     nan    nan          nan         nan\n",
      "                   quality_group_fluoride    1.2814        nan     nan    nan          nan         nan\n",
      "                       quality_group_good    2.0688        nan     nan    nan          nan         nan\n",
      "                      quality_group_milky    3.0436        nan     nan    nan          nan         nan\n",
      "                      quality_group_salty    1.7849        nan     nan    nan          nan         nan\n",
      "                    quality_group_unknown    2.4613        nan     nan    nan          nan         nan\n",
      "                       quantity_group_dry    5.1380        nan     nan    nan          nan         nan\n",
      "                    quantity_group_enough    1.4004        nan     nan    nan          nan         nan\n",
      "              quantity_group_insufficient    1.3425        nan     nan    nan          nan         nan\n",
      "                  quantity_group_seasonal    1.4876        nan     nan    nan          nan         nan\n",
      "                   quantity_group_unknown    3.1561        nan     nan    nan          nan         nan\n",
      "                 source_class_groundwater    4.2342        nan     nan    nan          nan         nan\n",
      "                     source_class_surface    3.9025        nan     nan    nan          nan         nan\n",
      "                     source_class_unknown    4.3131  8535.3700  0.0005 0.9996  -16724.7048  16733.3310\n",
      "             waterpoint_type_cattletrough    1.3506        nan     nan    nan          nan         nan\n",
      "        waterpoint_type_communalstandpipe   -0.5898        nan     nan    nan          nan         nan\n",
      "waterpoint_type_communalstandpipemultiple   -0.2413        nan     nan    nan          nan         nan\n",
      "                      waterpoint_type_dam   13.0967        nan     nan    nan          nan         nan\n",
      "                 waterpoint_type_handpump    0.1349        nan     nan    nan          nan         nan\n",
      "           waterpoint_type_improvedspring   -1.2896        nan     nan    nan          nan         nan\n",
      "                    waterpoint_type_other    0.0913        nan     nan    nan          nan         nan\n",
      "------------------------------------------------------------------------------------------------------\n",
      "             status_group = 1              Coef.     Std.Err.     t    P>|t|     [0.025       0.975]  \n",
      "------------------------------------------------------------------------------------------------------\n",
      "                                Intercept 125.1894         nan     nan    nan          nan         nan\n",
      "                               gps_height   0.0005      0.0000  9.0643 0.0000       0.0004      0.0006\n",
      "                                longitude   0.1448      0.0100 14.4565 0.0000       0.1252      0.1644\n",
      "                                 latitude  -0.0051      0.0093 -0.5459 0.5852      -0.0233      0.0131\n",
      "                              region_code  -0.0128      0.0018 -7.1466 0.0000      -0.0163     -0.0093\n",
      "                            district_code   0.0154      0.0034  4.6065 0.0000       0.0089      0.0220\n",
      "                               population   0.0002      0.0001  3.1148 0.0018       0.0001      0.0003\n",
      "                                  payment   0.4324      0.0437  9.8902 0.0000       0.3467      0.5181\n",
      "                                recordDay  -0.0160      0.0024 -6.6764 0.0000      -0.0207     -0.0113\n",
      "                              recordMonth   0.0438      0.0088  4.9800 0.0000       0.0265      0.0610\n",
      "                               recordYear  -0.1108      0.0295 -3.7604 0.0002      -0.1686     -0.0531\n",
      "                      public_meeting_True   0.4989      0.0710  7.0252 0.0000       0.3597      0.6381\n",
      "                scheme_management_Company -15.9429  10168.4291 -0.0016 0.9987  -19945.6978  19913.8120\n",
      "                  scheme_management_Other -14.9188  10168.6639 -0.0015 0.9988  -19945.1338  19915.2962\n",
      "             scheme_management_Parastatal -16.1341  10168.6349 -0.0016 0.9987  -19946.2923  19914.0242\n",
      "        scheme_management_Privateoperator -14.7756  10168.6409 -0.0015 0.9988  -19944.9456  19915.3944\n",
      "                    scheme_management_SWC -15.5692  10168.7393 -0.0015 0.9988  -19945.9321  19914.7936\n",
      "                  scheme_management_Trust -15.3789  10168.7861 -0.0015 0.9988  -19945.8334  19915.0756\n",
      "                    scheme_management_VWC -16.0684  10168.6344 -0.0016 0.9987  -19946.2256  19914.0888\n",
      "                    scheme_management_WUA -16.0730  10168.5645 -0.0016 0.9987  -19946.0931  19913.9471\n",
      "                    scheme_management_WUG -16.5769  10168.7176 -0.0016 0.9987  -19946.8972  19913.7435\n",
      "             scheme_management_WaterBoard -15.3089  10168.7083 -0.0015 0.9988  -19945.6109  19914.9930\n",
      "         scheme_management_Waterauthority -16.3646  10168.5266 -0.0016 0.9987  -19946.3105  19913.5813\n",
      "                              permit_True   0.1388      0.0470  2.9493 0.0032       0.0465      0.2310\n",
      "                  extraction_type_afridev   8.4102   4267.2772  0.0020 0.9984   -8355.2994   8372.1198\n",
      "                     extraction_type_cemo   6.1866   4267.2773  0.0014 0.9988   -8357.5232   8369.8965\n",
      "                   extraction_type_climax  24.9458  13672.9478  0.0018 0.9985  -26773.5395  26823.4311\n",
      "                  extraction_type_gravity   6.7582   4267.2772  0.0016 0.9987   -8356.9514   8370.4677\n",
      "              extraction_type_indiamarkii   8.0456   4267.2772  0.0019 0.9985   -8355.6641   8371.7554\n",
      "             extraction_type_indiamarkiii   8.3088   4267.2771  0.0019 0.9984   -8355.4007   8372.0183\n",
      "                      extraction_type_ksb   8.3345   4267.2770  0.0020 0.9984   -8355.3746   8372.0437\n",
      "                     extraction_type_mono   7.1463   4267.2772  0.0017 0.9987   -8356.5633   8370.8559\n",
      "               extraction_type_niratanira   7.3890   4267.2771  0.0017 0.9986   -8356.3204   8371.0985\n",
      "                    extraction_type_other   7.3408   4267.2772  0.0017 0.9986   -8356.3689   8371.0504\n",
      "            extraction_type_otherplaypump   8.3502   4267.2773  0.0020 0.9984   -8355.3597   8372.0601\n",
      "            extraction_type_otherropepump   7.7213   4267.2772  0.0018 0.9986   -8355.9883   8371.4310\n",
      "               extraction_type_otherswn81   7.7509   4267.2772  0.0018 0.9986   -8355.9587   8371.4606\n",
      "              extraction_type_submersible   7.2745   4267.2770  0.0017 0.9986   -8356.4347   8370.9837\n",
      "                    extraction_type_swn80   7.3256   4267.2772  0.0017 0.9986   -8356.3840   8371.0351\n",
      "                   extraction_type_walimi   5.7591   4267.2772  0.0013 0.9989   -8357.9504   8369.4687\n",
      "                 extraction_type_windmill   7.2564   4267.2773  0.0017 0.9986   -8356.4534   8370.9662\n",
      "                    quality_group_colored  20.3314         nan     nan    nan          nan         nan\n",
      "                   quality_group_fluoride  20.9354         nan     nan    nan          nan         nan\n",
      "                       quality_group_good  20.6565         nan     nan    nan          nan         nan\n",
      "                      quality_group_milky  22.4545         nan     nan    nan          nan         nan\n",
      "                      quality_group_salty  20.2820         nan     nan    nan          nan         nan\n",
      "                    quality_group_unknown  20.3917         nan     nan    nan          nan         nan\n",
      "                       quantity_group_dry  24.3261         nan     nan    nan          nan         nan\n",
      "                    quantity_group_enough  25.1916         nan     nan    nan          nan         nan\n",
      "              quantity_group_insufficient  24.6671         nan     nan    nan          nan         nan\n",
      "                  quantity_group_seasonal  24.9336         nan     nan    nan          nan         nan\n",
      "                   quantity_group_unknown  25.7499         nan     nan    nan          nan         nan\n",
      "                 source_class_groundwater  41.4673 217561.1057  0.0002 0.9998 -426370.4643 426453.3989\n",
      "                     source_class_surface  41.0737 217563.0865  0.0002 0.9998 -426374.7402 426456.8876\n",
      "                     source_class_unknown  42.4479 217561.7476  0.0002 0.9998 -426370.7418 426455.6377\n",
      "             waterpoint_type_cattletrough  17.5185 157993.4859  0.0001 0.9999 -309644.0236 309679.0607\n",
      "        waterpoint_type_communalstandpipe  15.6634 157993.4859  0.0001 0.9999 -309645.8786 309677.2055\n",
      "waterpoint_type_communalstandpipemultiple  15.0899 157993.4859  0.0001 0.9999 -309646.4522 309676.6320\n",
      "                      waterpoint_type_dam  30.3295 158020.7620  0.0002 0.9998 -309684.6729 309745.3319\n",
      "                 waterpoint_type_handpump  15.6308 157993.4859  0.0001 0.9999 -309645.9113 309677.1728\n",
      "           waterpoint_type_improvedspring  16.0347 157993.4859  0.0001 0.9999 -309645.5073 309677.5768\n",
      "                    waterpoint_type_other  14.5568 157993.4859  0.0001 0.9999 -309646.9853 309676.0989\n",
      "======================================================================================================\n",
      "\n",
      "                         precision    recall  f1-score   support\n",
      "\n",
      "             functional       0.69      0.90      0.78      9784\n",
      "functional needs repair       0.47      0.03      0.06      1267\n",
      "         non functional       0.77      0.58      0.66      6769\n",
      "\n",
      "               accuracy                           0.72     17820\n",
      "              macro avg       0.65      0.50      0.50     17820\n",
      "           weighted avg       0.71      0.72      0.69     17820\n",
      "\n"
     ]
    }
   ],
   "source": [
    "model = smf.mnlogit(formula=\"status_group ~ gps_height+longitude+latitude+region_code+district_code+population+payment+recordDay+recordMonth+recordYear+public_meeting_True+scheme_management_Company+scheme_management_Other+scheme_management_Parastatal+scheme_management_Privateoperator+scheme_management_SWC+scheme_management_Trust+scheme_management_VWC+scheme_management_WUA+scheme_management_WUG+scheme_management_WaterBoard+scheme_management_Waterauthority+permit_True+extraction_type_afridev+extraction_type_cemo+extraction_type_climax+extraction_type_gravity+extraction_type_indiamarkii+extraction_type_indiamarkiii+extraction_type_ksb+extraction_type_mono+extraction_type_niratanira+extraction_type_other+extraction_type_otherplaypump+extraction_type_otherropepump+extraction_type_otherswn81+extraction_type_submersible+extraction_type_swn80+extraction_type_walimi+extraction_type_windmill+quality_group_colored+quality_group_fluoride+quality_group_good+quality_group_milky+quality_group_salty+quality_group_unknown+quantity_group_dry+quantity_group_enough+quantity_group_insufficient+quantity_group_seasonal+quantity_group_unknown+source_class_groundwater+source_class_surface+source_class_unknown+waterpoint_type_cattletrough+waterpoint_type_communalstandpipe+waterpoint_type_communalstandpipemultiple+waterpoint_type_dam+waterpoint_type_handpump+waterpoint_type_improvedspring+waterpoint_type_other\",data=df_train)\n",
    "fitted = model.fit()\n",
    "print(fitted.summary2())\n",
    "\n",
    "predictions = fitted.predict(df_pretest)\n",
    "predictions['status_group']=predictions.idxmax(axis=1)\n",
    "predictions.drop(columns=[0,1,2], inplace=True)\n",
    "\n",
    "predictions['status_group']=predictions['status_group'].replace(2,\"functional\")\n",
    "predictions['status_group']=predictions['status_group'].replace(1,\"non functional\")\n",
    "predictions['status_group']=predictions['status_group'].replace(0,\"functional needs repair\")\n",
    "\n",
    "df_pretest['status_group']=df_pretest['status_group'].replace(2,\"functional\")\n",
    "df_pretest['status_group']=df_pretest['status_group'].replace(1,\"non functional\")\n",
    "df_pretest['status_group']=df_pretest['status_group'].replace(0,\"functional needs repair\")\n",
    "print(classification_report(y_pred=predictions,y_true=df_pretest.status_group))"
   ]
  },
  {
   "cell_type": "code",
   "execution_count": 95,
   "metadata": {},
   "outputs": [
    {
     "name": "stdout",
     "output_type": "stream",
     "text": [
      "Confusion Matrix : \n",
      " [[8800   28  956]\n",
      " [1038   43  186]\n",
      " [2843   21 3905]]\n",
      "Test accuracy =  0.7153759820426487\n"
     ]
    }
   ],
   "source": [
    "from sklearn.metrics import (confusion_matrix, accuracy_score)\n",
    "\n",
    "# confusion matrix\n",
    "cm = confusion_matrix(df_pretest.status_group, predictions)\n",
    "print (\"Confusion Matrix : \\n\", cm)\n",
    "\n",
    "# accuracy score of the model\n",
    "print('Test accuracy = ', accuracy_score(df_pretest.status_group, predictions))\n"
   ]
  },
  {
   "attachments": {},
   "cell_type": "markdown",
   "metadata": {},
   "source": [
    "### Submission File for DrivenData"
   ]
  },
  {
   "attachments": {},
   "cell_type": "markdown",
   "metadata": {},
   "source": [
    "Create prediction on test data and create dataframe for competition submission."
   ]
  },
  {
   "cell_type": "code",
   "execution_count": 96,
   "metadata": {},
   "outputs": [],
   "source": [
    "predictions = fitted.predict(df_test)\n",
    "predictions['status_group']=predictions.idxmax(axis=1)\n",
    "predictions.drop(columns=[0,1,2], inplace=True)\n",
    "\n",
    "predictions['status_group']=predictions['status_group'].replace(2,\"functional\")\n",
    "predictions['status_group']=predictions['status_group'].replace(1,\"non functional\")\n",
    "predictions['status_group']=predictions['status_group'].replace(0,\"functional needs repair\")\n",
    "\n",
    "df_disp= pd.read_csv('../testSet-indep.csv')\n",
    "df_pred = pd.concat([df_disp['id'], predictions], axis=1)\n",
    "\n",
    "df = pd.DataFrame(df_pred)"
   ]
  },
  {
   "cell_type": "code",
   "execution_count": 97,
   "metadata": {},
   "outputs": [
    {
     "data": {
      "text/html": [
       "<div>\n",
       "<style scoped>\n",
       "    .dataframe tbody tr th:only-of-type {\n",
       "        vertical-align: middle;\n",
       "    }\n",
       "\n",
       "    .dataframe tbody tr th {\n",
       "        vertical-align: top;\n",
       "    }\n",
       "\n",
       "    .dataframe thead th {\n",
       "        text-align: right;\n",
       "    }\n",
       "</style>\n",
       "<table border=\"1\" class=\"dataframe\">\n",
       "  <thead>\n",
       "    <tr style=\"text-align: right;\">\n",
       "      <th></th>\n",
       "      <th>id</th>\n",
       "      <th>status_group</th>\n",
       "    </tr>\n",
       "  </thead>\n",
       "  <tbody>\n",
       "    <tr>\n",
       "      <th>0</th>\n",
       "      <td>50785</td>\n",
       "      <td>non functional</td>\n",
       "    </tr>\n",
       "    <tr>\n",
       "      <th>1</th>\n",
       "      <td>51630</td>\n",
       "      <td>functional</td>\n",
       "    </tr>\n",
       "    <tr>\n",
       "      <th>2</th>\n",
       "      <td>17168</td>\n",
       "      <td>non functional</td>\n",
       "    </tr>\n",
       "    <tr>\n",
       "      <th>3</th>\n",
       "      <td>45559</td>\n",
       "      <td>non functional</td>\n",
       "    </tr>\n",
       "    <tr>\n",
       "      <th>4</th>\n",
       "      <td>49871</td>\n",
       "      <td>functional</td>\n",
       "    </tr>\n",
       "    <tr>\n",
       "      <th>...</th>\n",
       "      <td>...</td>\n",
       "      <td>...</td>\n",
       "    </tr>\n",
       "    <tr>\n",
       "      <th>14845</th>\n",
       "      <td>39307</td>\n",
       "      <td>functional</td>\n",
       "    </tr>\n",
       "    <tr>\n",
       "      <th>14846</th>\n",
       "      <td>18990</td>\n",
       "      <td>functional</td>\n",
       "    </tr>\n",
       "    <tr>\n",
       "      <th>14847</th>\n",
       "      <td>28749</td>\n",
       "      <td>functional</td>\n",
       "    </tr>\n",
       "    <tr>\n",
       "      <th>14848</th>\n",
       "      <td>33492</td>\n",
       "      <td>functional</td>\n",
       "    </tr>\n",
       "    <tr>\n",
       "      <th>14849</th>\n",
       "      <td>68707</td>\n",
       "      <td>non functional</td>\n",
       "    </tr>\n",
       "  </tbody>\n",
       "</table>\n",
       "<p>14850 rows × 2 columns</p>\n",
       "</div>"
      ],
      "text/plain": [
       "          id    status_group\n",
       "0      50785  non functional\n",
       "1      51630      functional\n",
       "2      17168  non functional\n",
       "3      45559  non functional\n",
       "4      49871      functional\n",
       "...      ...             ...\n",
       "14845  39307      functional\n",
       "14846  18990      functional\n",
       "14847  28749      functional\n",
       "14848  33492      functional\n",
       "14849  68707  non functional\n",
       "\n",
       "[14850 rows x 2 columns]"
      ]
     },
     "execution_count": 97,
     "metadata": {},
     "output_type": "execute_result"
    }
   ],
   "source": [
    "df"
   ]
  },
  {
   "cell_type": "code",
   "execution_count": 98,
   "metadata": {},
   "outputs": [],
   "source": [
    "df.to_csv('../submissions/Submission_logreg.csv', index=False)"
   ]
  }
 ],
 "metadata": {
  "kernelspec": {
   "display_name": "base",
   "language": "python",
   "name": "python3"
  },
  "language_info": {
   "codemirror_mode": {
    "name": "ipython",
    "version": 3
   },
   "file_extension": ".py",
   "mimetype": "text/x-python",
   "name": "python",
   "nbconvert_exporter": "python",
   "pygments_lexer": "ipython3",
   "version": "3.9.13"
  },
  "orig_nbformat": 4
 },
 "nbformat": 4,
 "nbformat_minor": 2
}
